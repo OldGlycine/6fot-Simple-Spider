{
 "cells": [
  {
   "cell_type": "code",
   "execution_count": null,
   "id": "baba1fcd",
   "metadata": {},
   "outputs": [],
   "source": [
    "import pandas as pd\n",
    "import geopandas as gpd\n",
    "import matplotlib.pyplot as plt\n",
    "json = pd.read_json('迪庆3000.json')\n",
    "datatest = gpd.GeoDataFrame(json)\n",
    "datatest\n",
    "# datatest.plot(column='pointID')\n",
    "# plt.show()"
   ]
  },
  {
   "cell_type": "code",
   "execution_count": null,
   "id": "e0c9e3b6",
   "metadata": {},
   "outputs": [],
   "source": [
    "import os\n",
    "# base_dir = 'dataset/青海轨迹'\n",
    "# base_dir = 'dataset/西藏轨迹'\n",
    "# base_dir = 'dataset/新疆轨迹'\n",
    "# base_dir = 'dataset/宁夏轨迹'\n",
    "# base_dir = 'dataset/甘肃轨迹'\n",
    "# base_dir = 'dataset/陕西轨迹'\n",
    "# base_dir = 'dataset/云南轨迹'\n",
    "# base_dir = 'dataset/贵州轨迹'\n",
    "# base_dir = 'dataset/四川轨迹'\n",
    "# base_dir = 'dataset/重庆轨迹'\n",
    "# base_dir = 'dataset/海南轨迹'\n",
    "# base_dir = 'dataset/广西轨迹'\n",
    "# base_dir = 'dataset/广东轨迹'\n",
    "# base_dir = 'dataset/湖南轨迹'\n",
    "base_dir = 'dataset/湖北轨迹'\n",
    "# 使用列表推导式获取所有二级子目录中的数字\n",
    "numbers = [\n",
    "    int(file.split('轨迹')[0])\n",
    "    for year_dir in os.listdir(base_dir)\n",
    "        if os.path.isdir(year_path := os.path.join(base_dir, year_dir))\n",
    "        for month_dir in os.listdir(year_path)\n",
    "            if os.path.isdir(month_path := os.path.join(year_path, month_dir))\n",
    "            for file in os.listdir(month_path)\n",
    "                if file.endswith('轨迹.csv')\n",
    "]\n",
    "\n",
    "print(len(numbers))  # 输出结果列表"
   ]
  },
  {
   "cell_type": "code",
   "execution_count": null,
   "id": "c77707a6",
   "metadata": {},
   "outputs": [],
   "source": [
    "import datetime\n",
    "dt = datetime.datetime.fromtimestamp(int(1730439314))\n",
    "dt = dt.strftime('%Y-%m-%d %H:%M:%S')\n",
    "dt"
   ]
  },
  {
   "cell_type": "code",
   "execution_count": null,
   "id": "85c3b1a3",
   "metadata": {},
   "outputs": [],
   "source": []
  }
 ],
 "metadata": {
  "kernelspec": {
   "display_name": "base",
   "language": "python",
   "name": "python3"
  },
  "language_info": {
   "codemirror_mode": {
    "name": "ipython",
    "version": 3
   },
   "file_extension": ".py",
   "mimetype": "text/x-python",
   "name": "python",
   "nbconvert_exporter": "python",
   "pygments_lexer": "ipython3",
   "version": "3.9.22"
  }
 },
 "nbformat": 4,
 "nbformat_minor": 5
}
